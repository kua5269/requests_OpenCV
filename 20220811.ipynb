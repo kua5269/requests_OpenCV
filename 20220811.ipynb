{
  "cells": [
    {
      "cell_type": "markdown",
      "metadata": {
        "id": "view-in-github",
        "colab_type": "text"
      },
      "source": [
        "<a href=\"https://colab.research.google.com/github/kuakua5269/requests_OpenCV/blob/main/20220811.ipynb\" target=\"_parent\"><img src=\"https://colab.research.google.com/assets/colab-badge.svg\" alt=\"Open In Colab\"/></a>"
      ]
    },
    {
      "cell_type": "markdown",
      "metadata": {
        "id": "D0ysGmTBVx38"
      },
      "source": [
        "**API其中一種樣式：JSON**\n",
        "\n",
        "[聯合新聞網](https://udn.com/news/breaknews/1) => 介面與資料分開，一直往下滑動會出現新的資料，同時開著開發者工具，並從最後面往前找出API的來源。"
      ]
    },
    {
      "cell_type": "code",
      "execution_count": null,
      "metadata": {
        "id": "IauHFLUGwidj"
      },
      "outputs": [],
      "source": [
        "import requests\n",
        "import io\n",
        "import json\n",
        "import codecs\n",
        "\n",
        "filename = 1\n",
        "for p in range(1,3):\n",
        "    r1 = requests.get( #去開發者工具 Preview 裡面觀察資料取得API\n",
        "        'https://udn.com/api/more', # 已知道API要檢查，可直接過濾網址\n",
        "        params = {\n",
        "            'page':p, # 改成參數就可以隨意改頁碼觀看\n",
        "            'id':'',\n",
        "            'channelId':'1',\n",
        "            'cate_id':'0',\n",
        "            'type':'breaknews',\n",
        "            'totalRecNo':'9559'\n",
        "        }\n",
        "    ) \n",
        "    ret = json.loads(r1.text)\n",
        "    for d in ret['lists']:\n",
        "        print(d['time']['date'],d['title'])\n",
        "        r2= requests.get(d['url']) # 觀察Preview（JSON API）結構，再次抓取每一則新聞的圖片回來。\n",
        "        with codecs.open(\"udn_images/\" + str(filename) + \".jpg\",\"wb\") as f: # 左側新建立一個udn_images資料夾\n",
        "            f.write(r2.content)\n",
        "        filename += 1"
      ]
    },
    {
      "cell_type": "markdown",
      "metadata": {
        "id": "fJp-Y1hpfI5N"
      },
      "source": [
        "圖片檔案太大，可以利用zip指令下載。"
      ]
    },
    {
      "cell_type": "code",
      "execution_count": null,
      "metadata": {
        "id": "di1E-IVzjKJ0"
      },
      "outputs": [],
      "source": [
        "!zip -r udn_images.zip udn_images/"
      ]
    },
    {
      "cell_type": "markdown",
      "metadata": {
        "id": "8_EksjG236ES"
      },
      "source": [
        "**!為首的指令都是屬於Linux的**，下列幾個重要指令：\n",
        "\n",
        "顯示檔案\n",
        "```\n",
        "!ls -al\n",
        "```\n",
        "複製檔案\n",
        "```\n",
        "!cp -r udn_images aaa\n",
        "```\n",
        "刪除資料夾\n",
        "```\n",
        "!rm -r aaa\n",
        "```\n",
        "建立資料夾\n",
        "```\n",
        "!mkdir bbb\n",
        "```"
      ]
    },
    {
      "cell_type": "markdown",
      "metadata": {
        "id": "HDyYyK0w6fWZ"
      },
      "source": [
        "[松果購物網站](https://www.pcone.com.tw/) => 抓取商品資料 => 由**搜尋**開始找API！"
      ]
    },
    {
      "cell_type": "code",
      "execution_count": null,
      "metadata": {
        "id": "GjYm3NczzWXK"
      },
      "outputs": [],
      "source": [
        "import requests\n",
        "import io\n",
        "import json\n",
        "import codecs\n",
        "\n",
        "h = {\n",
        "        'cookie': 'device_hash=632970fca98ffdf731dab3a0; x_device_hash=632970fca98ffdf731dab3a1; _gcl_au=1.1.1395533449.1663660287; sid2_raw=gs_4; sids[1663946130]=gs_4; dsid=632dcd9163379fbd3b1df994; _gcl_aw=GCL.1663946131.Cj0KCQjwsrWZBhC4ARIsAGGUJuoAppSgCl9vW2AFmU7mfGoFegLeWSJqpUAfTH8k-4vn2tNjE0gPmfcaAppaEALw_wcB; _gid=GA1.3.1327316292.1663946132; _gac_UA-76339624-3=1.1663946132.Cj0KCQjwsrWZBhC4ARIsAGGUJuoAppSgCl9vW2AFmU7mfGoFegLeWSJqpUAfTH8k-4vn2tNjE0gPmfcaAppaEALw_wcB; 1956=1; announcementDate=23; cto_bundle=F4An3l9BU1pDV09CZU5JaHI3SHptJTJGbUhCQzFHc2Y3RmRmY3FLNlFsOWNxYzZWeGg1bVlHZnhkUU5IVFFHM3E5M2Zld2ZIOGozZUdadEdLNVNmeVpaa3hVaiUyRnJzdmlJWnBieFlSWmJFRmNBUlZxeGtzSUFvcVh2UENGdlZzNHBzNTJmJTJCQ0tzJTJCa00xRFklMkZNaDVwNGlsMDVCYzV3JTNEJTNE; _ga=GA1.1.450483878.1663660287; _ga_469V10KNEZ=GS1.1.1663946222.2.1.1663946262.0.0.0',\n",
        "        'referer': 'https://www.pcone.com.tw/search?q=bra%20%E6%B4%8B%E8%A3%9D',\n",
        "        'user-agent': 'Mozilla/5.0 (Macintosh; Intel Mac OS X 10_15_7) AppleWebKit/537.36 (KHTML, like Gecko) Chrome/105.0.0.0 Safari/537.36'\n",
        "    }\n",
        "filename = 1 # 最後迴圈圖檔名稱需要\n",
        "keyword = input('你想找的商品為：')\n",
        "for p in range(1,4):\n",
        "    r1 = requests.get(\n",
        "        'https://xapi.pcone.com.tw/search/commodities',\n",
        "        params={\n",
        "            'site': 'pcone',\n",
        "            'direction': 'asc',\n",
        "            'page': p,\n",
        "            'q': keyword, # 改成參數再接輸入就可以隨性進行搜尋\n",
        "            'sorting': 'default',\n",
        "            'device': 'desktop',\n",
        "            'aid': 'null',\n",
        "        },\n",
        "        headers=h)\n",
        "# print(r1.text) # 可先與開發者工具的資料進行比對，若是html格式而非json格式，則再加入headers參數！\n",
        "\n",
        "ret = json.loads(r1.text)\n",
        "for d in ret[\"data\"][\"commodities\"]:\n",
        "    print(d[\"name\"],d[\"price\"])\n",
        "    # 再下一次requests指令進行圖片抓取\n",
        "    r2 = requests.get(d[\"images\"][\"small\"],headers=h) # 前面就需要headers這裡也須會需要加上\n",
        "    with codecs.open(\"pcone_images/\" + str(filename) + '.png','wb') as f: # 要注意/不能當作檔名\n",
        "        f.write(r2.content)\n",
        "    filename += 1 "
      ]
    },
    {
      "cell_type": "markdown",
      "source": [
        "[PrettyTable函式庫](https://pypi.org/project/prettytable/)使用 => 將結果用表格輸出"
      ],
      "metadata": {
        "id": "MXuvhDeVy9Gw"
      }
    },
    {
      "cell_type": "code",
      "source": [
        "import requests\n",
        "import io\n",
        "import json\n",
        "import codecs\n",
        "import prettytable\n",
        "\n",
        "h = { \n",
        "        'cookie': 'device_hash=632970fca98ffdf731dab3a0; x_device_hash=632970fca98ffdf731dab3a1; _gcl_au=1.1.1395533449.1663660287; sid2_raw=gs_4; sids[1663946130]=gs_4; dsid=632dcd9163379fbd3b1df994; _gcl_aw=GCL.1663946131.Cj0KCQjwsrWZBhC4ARIsAGGUJuoAppSgCl9vW2AFmU7mfGoFegLeWSJqpUAfTH8k-4vn2tNjE0gPmfcaAppaEALw_wcB; _gid=GA1.3.1327316292.1663946132; _gac_UA-76339624-3=1.1663946132.Cj0KCQjwsrWZBhC4ARIsAGGUJuoAppSgCl9vW2AFmU7mfGoFegLeWSJqpUAfTH8k-4vn2tNjE0gPmfcaAppaEALw_wcB; 1956=1; announcementDate=23; cto_bundle=F4An3l9BU1pDV09CZU5JaHI3SHptJTJGbUhCQzFHc2Y3RmRmY3FLNlFsOWNxYzZWeGg1bVlHZnhkUU5IVFFHM3E5M2Zld2ZIOGozZUdadEdLNVNmeVpaa3hVaiUyRnJzdmlJWnBieFlSWmJFRmNBUlZxeGtzSUFvcVh2UENGdlZzNHBzNTJmJTJCQ0tzJTJCa00xRFklMkZNaDVwNGlsMDVCYzV3JTNEJTNE; _ga=GA1.1.450483878.1663660287; _ga_469V10KNEZ=GS1.1.1663946222.2.1.1663946262.0.0.0',\n",
        "        'referer': 'https://www.pcone.com.tw/search?q=bra%20%E6%B4%8B%E8%A3%9D',\n",
        "        'user-agent': 'Mozilla/5.0 (Macintosh; Intel Mac OS X 10_15_7) AppleWebKit/537.36 (KHTML, like Gecko) Chrome/105.0.0.0 Safari/537.36'\n",
        "    }\n",
        "# filename = 1 \n",
        "keyword = input('你想找的商品為：')\n",
        "t = prettytable.PrettyTable(['品項','價格'], encoding='utf-8') # 建立表格變數\n",
        "t.align['品項']='l' # 靠左對齊\n",
        "for p in range(1,4):\n",
        "    r1 = requests.get(\n",
        "        'https://xapi.pcone.com.tw/search/commodities',\n",
        "        params={\n",
        "            'site': 'pcone',\n",
        "            'direction': 'asc',\n",
        "            'page': p,\n",
        "            'q': keyword, # 改成參數再接輸入就可以隨性進行搜尋\n",
        "            'sorting': 'default',\n",
        "            'device': 'desktop',\n",
        "            'aid': 'null',\n",
        "        },\n",
        "        headers=h)\n",
        "\n",
        "ret = json.loads(r1.text)\n",
        "for d in ret[\"data\"][\"commodities\"]:\n",
        "    # print(d[\"name\"],d[\"price\"])\n",
        "    t.add_row([d[\"name\"],d[\"price\"]]) # list格式加上[]\n",
        "print(t)"
      ],
      "metadata": {
        "id": "NBXPfOhOzYP0"
      },
      "execution_count": null,
      "outputs": []
    },
    {
      "cell_type": "markdown",
      "source": [
        "colab專用清除畫面指令：\n",
        "\n",
        "```\n",
        "import IPython.display as dp\n",
        "\n",
        "dp.clear_output(等待新輸出再印)\n",
        "等待新輸出＝True或False\n",
        "```"
      ],
      "metadata": {
        "id": "wvf49mpq8lbo"
      }
    },
    {
      "cell_type": "code",
      "execution_count": null,
      "metadata": {
        "colab": {
          "base_uri": "https://localhost:8080/"
        },
        "id": "ndZysBfzofGS",
        "outputId": "067edeec-d2fb-4a8f-bdbc-1bd702ac6883"
      },
      "outputs": [
        {
          "metadata": {
            "tags": null
          },
          "name": "stdout",
          "output_type": "stream",
          "text": [
            "當前頁碼： 1\n"
          ]
        }
      ],
      "source": [
        "import IPython.display as dp\n",
        "p=1\n",
        "while True:\n",
        "  dp.clear_output(True)\n",
        "  print(\"當前頁碼：\",p)\n",
        "  p=input(\"請輸入頁碼：\")"
      ]
    },
    {
      "cell_type": "markdown",
      "source": [],
      "metadata": {
        "id": "6YekSMLkATFW"
      }
    },
    {
      "cell_type": "markdown",
      "source": [
        "[BeautifulSoup函式庫](https://beautiful-soup-4.readthedocs.io/en/latest/#) => 抓交通部左側快訊新聞"
      ],
      "metadata": {
        "id": "jwEfLuuXATH2"
      }
    },
    {
      "cell_type": "code",
      "execution_count": null,
      "metadata": {
        "id": "JNwp0XH8sr43"
      },
      "outputs": [],
      "source": [
        "import requests\n",
        "import io\n",
        "import json\n",
        "import codecs\n",
        "from bs4 import BeautifulSoup\n",
        "\n",
        "r1 = requests.get('https://www.motc.gov.tw/ch/index.jsp')\n",
        "b1 = BeautifulSoup(r1.text, 'html.parser') # 後者參數選擇html來解析，另一個是xml。\n",
        "# find為其重要功能，找尋html標籤用！\n",
        "# ret = b1.find('div', {'id':'accesskey'}) # find找到第一個就停止\n",
        "# ret = b1.find_all('span',{'class':'left'}) #find_all全部找出來\n",
        "# 以上兩個可串在一起寫，注意標籤層級：\n",
        "ret = b1.find('div', {'id':'accesskey'}).find_all('span',{'class':'left'}) \n",
        "for d in ret:\n",
        "    print(d)\n",
        "    print(d.text) # 僅抓新聞標題\n",
        "    print(d.parent.attrs['href']) # 利用標籤變數往上一層抓取對應網址"
      ]
    },
    {
      "cell_type": "markdown",
      "source": [
        "快訊新聞 => 網址點入的下一層 => 繼續爬網址第二次抓取內容"
      ],
      "metadata": {
        "id": "CiWpxpPYLsaO"
      }
    },
    {
      "cell_type": "code",
      "source": [
        "import requests\n",
        "import io\n",
        "import json\n",
        "import codecs\n",
        "from bs4 import BeautifulSoup\n",
        "\n",
        "r1 = requests.get('https://www.motc.gov.tw/ch/index.jsp')\n",
        "b1 = BeautifulSoup(r1.text, 'html.parser') \n",
        "# 後者參數選擇html來解析，另一個是xml。\n",
        "# find為其重要功能，找尋html標籤用！\n",
        "ret = b1.find('div', {'id':'accesskey'}).find_all('span',{'class':'left'}) # 可以用.串在一起寫，注意標籤層級\n",
        "\n",
        "filename = 1\n",
        "for d in ret:\n",
        "    # 利用標籤變數往上一層抓取網址\n",
        "    print(d.parent.attrs['href']) \n",
        "    # 從標籤內找到當責快訊新聞的網址\n",
        "    r2 = requests.get('https://www.motc.gov.tw/ch/' + d.parent.attrs['href']) # 補上網址的前綴路徑\n",
        "    b2 = BeautifulSoup(r2.text, 'html.parser')\n",
        "\n",
        "    # 先檢查抓到一則新聞的內容是否正確\n",
        "    # print(b2.find('td', {\"style\":\"padding-left:15px\"}).text)\n",
        "    # break\n",
        "\n",
        "    # 接著將這一則存起來\n",
        "    # with codecs.open('motc_data/' + str(filename) + '.txt', 'w', 'utf-8') as f:\n",
        "    #     f.write(d.text + '\\r\\n\\r\\n')\n",
        "    #     f.write(b2.find('td',{'style': 'padding-left:15px'}).text)\n",
        "\n",
        "    # 嘗試多抓一則新聞中的日期與內容一起存起來\n",
        "    with codecs.open('motc_data/' + str(filename) + '.txt', 'w', 'utf-8') as f:\n",
        "        f.write(d.text + '\\r\\n\\r\\n')\n",
        "        f.write(b2.find('td', {\"style\":\"padding-left:15px\"}).parent.parent.find_all('td', {\"class\":\"font1_1\"})[2].text+'\\r\\n\\r\\n')\n",
        "        f.write(b2.find('td',{'style': 'padding-left:15px'}).text)\n",
        "    filename += 1"
      ],
      "metadata": {
        "id": "e2H_67E9Km6F"
      },
      "execution_count": null,
      "outputs": []
    },
    {
      "cell_type": "code",
      "source": [
        "# 打包成zip檔案\n",
        "!zip -r motc_data.zip motc_data/"
      ],
      "metadata": {
        "id": "X6KV9ElpSsbX"
      },
      "execution_count": null,
      "outputs": []
    },
    {
      "cell_type": "markdown",
      "source": [
        "額外練習：[勞動部新聞稿](https://www.mol.gov.tw/1607/1632/1633/) => 資料抓取"
      ],
      "metadata": {
        "id": "z2Re3m9Nn00U"
      }
    },
    {
      "cell_type": "code",
      "execution_count": null,
      "metadata": {
        "id": "HHt6XtDDBdtp"
      },
      "outputs": [],
      "source": [
        "import requests\n",
        "import io\n",
        "import json\n",
        "import codecs\n",
        "from bs4 import BeautifulSoup\n",
        "\n",
        "r1 = requests.get('https://www.mol.gov.tw/1607/1632/1633/', params={\n",
        "    'Page': '2', # 頁碼\n",
        "    'PageSize': '15' # 每頁顯示多少筆資料\n",
        "})\n",
        "b1 = BeautifulSoup(r1.text, 'html.parser')\n",
        "\n",
        "for d in b1.find_all('div',{\"class\":\"item_list2\"}):\n",
        "    print(d.find('a').text)\n",
        "    print(d.find_all('span')[1].text)\n",
        "    print('===================')"
      ]
    },
    {
      "cell_type": "markdown",
      "source": [
        "某則新聞稿 => 點入的詳細資料 => 二次爬蟲抓取"
      ],
      "metadata": {
        "id": "CQR_0nUhpbcC"
      }
    },
    {
      "cell_type": "code",
      "execution_count": null,
      "metadata": {
        "id": "cYrhxDrdI9wz"
      },
      "outputs": [],
      "source": [
        "import requests\n",
        "import io\n",
        "import json\n",
        "import codecs\n",
        "from bs4 import BeautifulSoup\n",
        "\n",
        "filename = 1\n",
        "for p in range(1,6):\n",
        "    r1 = requests.get('https://www.mol.gov.tw/1607/1632/1633/', params={\n",
        "        'Page': p,\n",
        "        'PageSize': '9'})\n",
        "    b1 = BeautifulSoup(r1.text, 'html.parser')\n",
        "\n",
        "    for d in b1.find_all('div',{\"class\":\"item_list2\"}):\n",
        "        r2 = requests.get('https://www.mol.gov.tw/'+d.find('a').attrs['href'])\n",
        "        b2 = BeautifulSoup(r2.text, 'html.parser')\n",
        "        with codecs.open('mol_data/'+str(filename)+'.txt','w','utf-8') as f:\n",
        "            f.write(d.find('a').text+'\\r\\n\\r\\n')\n",
        "            f.write(b2.find('section',{'class':'cp'}).text)\n",
        "        filename += 1"
      ]
    }
  ],
  "metadata": {
    "colab": {
      "collapsed_sections": [],
      "provenance": [],
      "authorship_tag": "ABX9TyPsDYVSTDp6KysKiCvBcVXW",
      "include_colab_link": true
    },
    "kernelspec": {
      "display_name": "Python 3",
      "name": "python3"
    },
    "language_info": {
      "name": "python"
    }
  },
  "nbformat": 4,
  "nbformat_minor": 0
}